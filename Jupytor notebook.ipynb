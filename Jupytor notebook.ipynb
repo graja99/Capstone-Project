{
    "nbformat_minor": 1, 
    "cells": [
        {
            "source": "# Dollar stores and their impact on major cities", 
            "cell_type": "markdown", 
            "metadata": {}
        }, 
        {
            "source": "**Gopala Raja** \n\nHealthy and affordable choice in economically backward neighbourhoods is becoming \nscarce due to increase in cheap fast food restaurants and opening of cheap options \nsuch as Dollar stores. The healthy food retailers close their business and move out \nof such neighbourhoods leaving local residents with no choice but to eat the unhealthy \nfood. A recent article shows how such Dollar stores grow and force out healthy food \noptions, https://www.msn.com/en-us/news/other/the-dollar-store-backlash-has-begun/ar-BBRdPzh\n", 
            "cell_type": "markdown", 
            "metadata": {}
        }, 
        {
            "source": "Using the data of New York City neighbourhood and Toranto neighbourhood, we can compare\npresence of dollar stores and grocery stores. Whether this is a universal phenomenon or \njust for a city. Also this can be expanded to major cities to see how they are affected \nor not.\n\nWe will use the Foursquare API to explore neighborhoods in New York City and Toranto. We \nwill use the explore function to get the Dollar and Grocery stores in each neighborhood, \nand then use this feature to group the neighborhoods into clusters. \n\nAt the same time the capital economies could not control where a business can open its\nbranches and do business, the healthy food choice to their citizens has a major impact \nin terms of the health of the community and the medical needs. Hence the data analysis \nand findings can help and shape the rules of the Government. \n", 
            "cell_type": "markdown", 
            "metadata": {}
        }, 
        {
            "source": "", 
            "cell_type": "markdown", 
            "metadata": {}
        }, 
        {
            "execution_count": null, 
            "cell_type": "code", 
            "metadata": {}, 
            "outputs": [], 
            "source": ""
        }, 
        {
            "source": "", 
            "cell_type": "markdown", 
            "metadata": {}
        }, 
        {
            "execution_count": null, 
            "cell_type": "code", 
            "metadata": {}, 
            "outputs": [], 
            "source": ""
        }
    ], 
    "metadata": {
        "kernelspec": {
            "display_name": "Python 3.5", 
            "name": "python3", 
            "language": "python"
        }, 
        "language_info": {
            "mimetype": "text/x-python", 
            "nbconvert_exporter": "python", 
            "version": "3.5.5", 
            "name": "python", 
            "file_extension": ".py", 
            "pygments_lexer": "ipython3", 
            "codemirror_mode": {
                "version": 3, 
                "name": "ipython"
            }
        }
    }, 
    "nbformat": 4
}